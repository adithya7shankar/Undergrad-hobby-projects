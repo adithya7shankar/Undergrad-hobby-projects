{
  "nbformat": 4,
  "nbformat_minor": 0,
  "metadata": {
    "colab": {
      "provenance": [],
      "authorship_tag": "ABX9TyP27DZ3RuPEgAyaWvFIWXtd",
      "include_colab_link": true
    },
    "kernelspec": {
      "name": "python3",
      "display_name": "Python 3"
    },
    "language_info": {
      "name": "python"
    }
  },
  "cells": [
    {
      "cell_type": "markdown",
      "metadata": {
        "id": "view-in-github",
        "colab_type": "text"
      },
      "source": [
        "<a href=\"https://colab.research.google.com/github/adithya7shankar/Undergrad-hobby-projects/blob/main/ARIMA_model.ipynb\" target=\"_parent\"><img src=\"https://colab.research.google.com/assets/colab-badge.svg\" alt=\"Open In Colab\"/></a>"
      ]
    },
    {
      "cell_type": "code",
      "metadata": {
        "colab": {
          "base_uri": "https://localhost:8080/"
        },
        "id": "PiTvKaGlPcrv",
        "outputId": "7d45cec4-8630-4123-c337-0434c2bb8958"
      },
      "source": [
        "pip install pmdarima"
      ],
      "execution_count": null,
      "outputs": [
        {
          "output_type": "stream",
          "text": [
            "Collecting pmdarima\n",
            "\u001b[?25l  Downloading https://files.pythonhosted.org/packages/f4/c2/2a94bce6bba1deac3c0b16dbb14f28de0b9035e3211919cae8448455aa65/pmdarima-1.8.2-cp37-cp37m-manylinux1_x86_64.whl (1.5MB)\n",
            "\u001b[K     |████████████████████████████████| 1.5MB 5.4MB/s \n",
            "\u001b[?25hRequirement already satisfied: scipy>=1.3.2 in /usr/local/lib/python3.7/dist-packages (from pmdarima) (1.4.1)\n",
            "Requirement already satisfied: setuptools!=50.0.0,>=38.6.0 in /usr/local/lib/python3.7/dist-packages (from pmdarima) (57.0.0)\n",
            "Requirement already satisfied: pandas>=0.19 in /usr/local/lib/python3.7/dist-packages (from pmdarima) (1.1.5)\n",
            "Requirement already satisfied: scikit-learn>=0.22 in /usr/local/lib/python3.7/dist-packages (from pmdarima) (0.22.2.post1)\n",
            "Collecting statsmodels!=0.12.0,>=0.11\n",
            "\u001b[?25l  Downloading https://files.pythonhosted.org/packages/da/69/8eef30a6237c54f3c0b524140e2975f4b1eea3489b45eb3339574fc8acee/statsmodels-0.12.2-cp37-cp37m-manylinux1_x86_64.whl (9.5MB)\n",
            "\u001b[K     |████████████████████████████████| 9.5MB 30.1MB/s \n",
            "\u001b[?25hRequirement already satisfied: urllib3 in /usr/local/lib/python3.7/dist-packages (from pmdarima) (1.24.3)\n",
            "Requirement already satisfied: Cython!=0.29.18,>=0.29 in /usr/local/lib/python3.7/dist-packages (from pmdarima) (0.29.23)\n",
            "Requirement already satisfied: joblib>=0.11 in /usr/local/lib/python3.7/dist-packages (from pmdarima) (1.0.1)\n",
            "Requirement already satisfied: numpy~=1.19.0 in /usr/local/lib/python3.7/dist-packages (from pmdarima) (1.19.5)\n",
            "Requirement already satisfied: pytz>=2017.2 in /usr/local/lib/python3.7/dist-packages (from pandas>=0.19->pmdarima) (2018.9)\n",
            "Requirement already satisfied: python-dateutil>=2.7.3 in /usr/local/lib/python3.7/dist-packages (from pandas>=0.19->pmdarima) (2.8.1)\n",
            "Requirement already satisfied: patsy>=0.5 in /usr/local/lib/python3.7/dist-packages (from statsmodels!=0.12.0,>=0.11->pmdarima) (0.5.1)\n",
            "Requirement already satisfied: six>=1.5 in /usr/local/lib/python3.7/dist-packages (from python-dateutil>=2.7.3->pandas>=0.19->pmdarima) (1.15.0)\n",
            "Installing collected packages: statsmodels, pmdarima\n",
            "  Found existing installation: statsmodels 0.10.2\n",
            "    Uninstalling statsmodels-0.10.2:\n",
            "      Successfully uninstalled statsmodels-0.10.2\n",
            "Successfully installed pmdarima-1.8.2 statsmodels-0.12.2\n"
          ],
          "name": "stdout"
        }
      ]
    },
    {
      "cell_type": "code",
      "metadata": {
        "id": "LgdHVxI4Qjc7"
      },
      "source": [
        "import pandas as pd\n",
        "import numpy as np"
      ],
      "execution_count": null,
      "outputs": []
    },
    {
      "cell_type": "code",
      "metadata": {
        "colab": {
          "base_uri": "https://localhost:8080/",
          "height": 251
        },
        "id": "2-0EXCOUQW-U",
        "outputId": "87a4c827-89e3-4275-eee7-c2b647975d8f"
      },
      "source": [
        "df=pd.read_csv('/content/ICICIBANK.NS.csv',index_col='Date',parse_dates=True)\n",
        "df=df.dropna()\n",
        "print('Shape of data',df.shape)\n",
        "df.head()\n"
      ],
      "execution_count": null,
      "outputs": [
        {
          "output_type": "stream",
          "text": [
            "Shape of data (1227, 6)\n"
          ],
          "name": "stdout"
        },
        {
          "output_type": "execute_result",
          "data": {
            "text/html": [
              "<div>\n",
              "<style scoped>\n",
              "    .dataframe tbody tr th:only-of-type {\n",
              "        vertical-align: middle;\n",
              "    }\n",
              "\n",
              "    .dataframe tbody tr th {\n",
              "        vertical-align: top;\n",
              "    }\n",
              "\n",
              "    .dataframe thead th {\n",
              "        text-align: right;\n",
              "    }\n",
              "</style>\n",
              "<table border=\"1\" class=\"dataframe\">\n",
              "  <thead>\n",
              "    <tr style=\"text-align: right;\">\n",
              "      <th></th>\n",
              "      <th>Open</th>\n",
              "      <th>High</th>\n",
              "      <th>Low</th>\n",
              "      <th>Close</th>\n",
              "      <th>Adj Close</th>\n",
              "      <th>Volume</th>\n",
              "    </tr>\n",
              "    <tr>\n",
              "      <th>Date</th>\n",
              "      <th></th>\n",
              "      <th></th>\n",
              "      <th></th>\n",
              "      <th></th>\n",
              "      <th></th>\n",
              "      <th></th>\n",
              "    </tr>\n",
              "  </thead>\n",
              "  <tbody>\n",
              "    <tr>\n",
              "      <th>2014-03-06</th>\n",
              "      <td>265.854553</td>\n",
              "      <td>268.672729</td>\n",
              "      <td>261.827271</td>\n",
              "      <td>265.154541</td>\n",
              "      <td>240.552719</td>\n",
              "      <td>19736579.0</td>\n",
              "    </tr>\n",
              "    <tr>\n",
              "      <th>2014-04-06</th>\n",
              "      <td>265.436371</td>\n",
              "      <td>270.281830</td>\n",
              "      <td>262.545441</td>\n",
              "      <td>267.163635</td>\n",
              "      <td>246.259247</td>\n",
              "      <td>12880208.0</td>\n",
              "    </tr>\n",
              "    <tr>\n",
              "      <th>2014-05-06</th>\n",
              "      <td>263.090912</td>\n",
              "      <td>267.454559</td>\n",
              "      <td>261.336365</td>\n",
              "      <td>266.027283</td>\n",
              "      <td>249.111038</td>\n",
              "      <td>21069081.0</td>\n",
              "    </tr>\n",
              "    <tr>\n",
              "      <th>2014-06-06</th>\n",
              "      <td>267.745453</td>\n",
              "      <td>273.336365</td>\n",
              "      <td>265.454559</td>\n",
              "      <td>270.236359</td>\n",
              "      <td>253.052460</td>\n",
              "      <td>21390919.0</td>\n",
              "    </tr>\n",
              "    <tr>\n",
              "      <th>2014-09-06</th>\n",
              "      <td>270.209076</td>\n",
              "      <td>274.854553</td>\n",
              "      <td>269.727264</td>\n",
              "      <td>271.309082</td>\n",
              "      <td>254.056946</td>\n",
              "      <td>21202940.0</td>\n",
              "    </tr>\n",
              "  </tbody>\n",
              "</table>\n",
              "</div>"
            ],
            "text/plain": [
              "                  Open        High  ...   Adj Close      Volume\n",
              "Date                                ...                        \n",
              "2014-03-06  265.854553  268.672729  ...  240.552719  19736579.0\n",
              "2014-04-06  265.436371  270.281830  ...  246.259247  12880208.0\n",
              "2014-05-06  263.090912  267.454559  ...  249.111038  21069081.0\n",
              "2014-06-06  267.745453  273.336365  ...  253.052460  21390919.0\n",
              "2014-09-06  270.209076  274.854553  ...  254.056946  21202940.0\n",
              "\n",
              "[5 rows x 6 columns]"
            ]
          },
          "metadata": {
            "tags": []
          },
          "execution_count": 4
        }
      ]
    },
    {
      "cell_type": "code",
      "metadata": {
        "colab": {
          "base_uri": "https://localhost:8080/",
          "height": 335
        },
        "id": "f3Hf8lrVQ3sL",
        "outputId": "f36463d5-e5a6-4728-b073-c73aebb169e2"
      },
      "source": [
        "df['Adj Close'].plot(figsize=(12,5))"
      ],
      "execution_count": null,
      "outputs": [
        {
          "output_type": "execute_result",
          "data": {
            "text/plain": [
              "<matplotlib.axes._subplots.AxesSubplot at 0x7ff7060714d0>"
            ]
          },
          "metadata": {
            "tags": []
          },
          "execution_count": 5
        },
        {
          "output_type": "display_data",
          "data": {
            "image/png": "[encoded data removed]",
            "text/plain": [
              "<Figure size 864x360 with 1 Axes>"
            ]
          },
          "metadata": {
            "tags": [],
            "needs_background": "light"
          }
        }
      ]
    },
    {
      "cell_type": "code",
      "metadata": {
        "id": "PESKUcl_Q5WH"
      },
      "source": [
        "from statsmodels.tsa.stattools import adfuller\n",
        "\n",
        "def adf_test(dataset):\n",
        "  dftest = adfuller(dataset, autolag = 'AIC')\n",
        "  print(\"1. ADF : \",dftest[0])\n",
        "  print(\"2. P-Value : \", dftest[1])\n",
        "  print(\"3. Num Of Lags : \", dftest[2])\n",
        "  print(\"4. Num Of Observations Used For ADF Regression and Critical Values Calculation :\", dftest[3])\n",
        "  print(\"5. Critical Values :\")\n",
        "  for key, val in dftest[4].items():\n",
        "      print(\"\\t\",key, \": \", val)"
      ],
      "execution_count": null,
      "outputs": []
    },
    {
      "cell_type": "code",
      "metadata": {
        "colab": {
          "base_uri": "https://localhost:8080/"
        },
        "id": "mjVNntSoQ5iG",
        "outputId": "dd59e474-2f48-40ac-c323-7ffb6d49178a"
      },
      "source": [
        "adf_test(df['Adj Close'])"
      ],
      "execution_count": null,
      "outputs": [
        {
          "output_type": "stream",
          "text": [
            "1. ADF :  -0.6525635375823973\n",
            "2. P-Value :  0.8586571461317817\n",
            "3. Num Of Lags :  0\n",
            "4. Num Of Observations Used For ADF Regression and Critical Values Calculation : 1226\n",
            "5. Critical Values :\n",
            "\t 1% :  -3.4356950607889254\n",
            "\t 5% :  -2.863900342696613\n",
            "\t 10% :  -2.568026681232353\n"
          ],
          "name": "stdout"
        }
      ]
    },
    {
      "cell_type": "code",
      "metadata": {
        "id": "VgThfa2FQ5oM"
      },
      "source": [
        "from pmdarima import auto_arima\n",
        "# Ignore harmless warnings\n",
        "import warnings\n",
        "warnings.filterwarnings(\"ignore\")\n"
      ],
      "execution_count": null,
      "outputs": []
    },
    {
      "cell_type": "code",
      "metadata": {
        "colab": {
          "base_uri": "https://localhost:8080/",
          "height": 379
        },
        "id": "O7BekPvAQ5yN",
        "outputId": "ebf47a84-1c15-43a5-b69d-21c2f3fe1173"
      },
      "source": [
        "stepwise_fit = auto_arima(df['Adj Close'],\n",
        "                          suppress_warnings=True)\n",
        "\n",
        "stepwise_fit.summary()"
      ],
      "execution_count": null,
      "outputs": [
        {
          "output_type": "execute_result",
          "data": {
            "text/html": [
              "<table class=\"simpletable\">\n",
              "<caption>SARIMAX Results</caption>\n",
              "<tr>\n",
              "  <th>Dep. Variable:</th>           <td>y</td>        <th>  No. Observations:  </th>   <td>1227</td>   \n",
              "</tr>\n",
              "<tr>\n",
              "  <th>Model:</th>           <td>SARIMAX(0, 1, 0)</td> <th>  Log Likelihood     </th> <td>-3766.497</td>\n",
              "</tr>\n",
              "<tr>\n",
              "  <th>Date:</th>            <td>Thu, 17 Jun 2021</td> <th>  AIC                </th> <td>7534.994</td> \n",
              "</tr>\n",
              "<tr>\n",
              "  <th>Time:</th>                <td>05:39:04</td>     <th>  BIC                </th> <td>7540.105</td> \n",
              "</tr>\n",
              "<tr>\n",
              "  <th>Sample:</th>                  <td>0</td>        <th>  HQIC               </th> <td>7536.917</td> \n",
              "</tr>\n",
              "<tr>\n",
              "  <th></th>                      <td> - 1227</td>     <th>                     </th>     <td> </td>    \n",
              "</tr>\n",
              "<tr>\n",
              "  <th>Covariance Type:</th>        <td>opg</td>       <th>                     </th>     <td> </td>    \n",
              "</tr>\n",
              "</table>\n",
              "<table class=\"simpletable\">\n",
              "<tr>\n",
              "     <td></td>       <th>coef</th>     <th>std err</th>      <th>z</th>      <th>P>|z|</th>  <th>[0.025</th>    <th>0.975]</th>  \n",
              "</tr>\n",
              "<tr>\n",
              "  <th>sigma2</th> <td>   27.2904</td> <td>    0.604</td> <td>   45.149</td> <td> 0.000</td> <td>   26.106</td> <td>   28.475</td>\n",
              "</tr>\n",
              "</table>\n",
              "<table class=\"simpletable\">\n",
              "<tr>\n",
              "  <th>Ljung-Box (L1) (Q):</th>     <td>0.33</td> <th>  Jarque-Bera (JB):  </th> <td>1192.77</td>\n",
              "</tr>\n",
              "<tr>\n",
              "  <th>Prob(Q):</th>                <td>0.57</td> <th>  Prob(JB):          </th>  <td>0.00</td>  \n",
              "</tr>\n",
              "<tr>\n",
              "  <th>Heteroskedasticity (H):</th> <td>1.61</td> <th>  Skew:              </th>  <td>0.79</td>  \n",
              "</tr>\n",
              "<tr>\n",
              "  <th>Prob(H) (two-sided):</th>    <td>0.00</td> <th>  Kurtosis:          </th>  <td>7.57</td>  \n",
              "</tr>\n",
              "</table><br/><br/>Warnings:<br/>[1] Covariance matrix calculated using the outer product of gradients (complex-step)."
            ],
            "text/plain": [
              "<class 'statsmodels.iolib.summary.Summary'>\n",
              "\"\"\"\n",
              "                               SARIMAX Results                                \n",
              "==============================================================================\n",
              "Dep. Variable:                      y   No. Observations:                 1227\n",
              "Model:               SARIMAX(0, 1, 0)   Log Likelihood               -3766.497\n",
              "Date:                Thu, 17 Jun 2021   AIC                           7534.994\n",
              "Time:                        05:39:04   BIC                           7540.105\n",
              "Sample:                             0   HQIC                          7536.917\n",
              "                               - 1227                                         \n",
              "Covariance Type:                  opg                                         \n",
              "==============================================================================\n",
              "                 coef    std err          z      P>|z|      [0.025      0.975]\n",
              "------------------------------------------------------------------------------\n",
              "sigma2        27.2904      0.604     45.149      0.000      26.106      28.475\n",
              "===================================================================================\n",
              "Ljung-Box (L1) (Q):                   0.33   Jarque-Bera (JB):              1192.77\n",
              "Prob(Q):                              0.57   Prob(JB):                         0.00\n",
              "Heteroskedasticity (H):               1.61   Skew:                             0.79\n",
              "Prob(H) (two-sided):                  0.00   Kurtosis:                         7.57\n",
              "===================================================================================\n",
              "\n",
              "Warnings:\n",
              "[1] Covariance matrix calculated using the outer product of gradients (complex-step).\n",
              "\"\"\""
            ]
          },
          "metadata": {
            "tags": []
          },
          "execution_count": 9
        }
      ]
    },
    {
      "cell_type": "code",
      "metadata": {
        "id": "ouNN2525SKUL"
      },
      "source": [
        "from statsmodels.tsa.arima_model import ARIMA"
      ],
      "execution_count": null,
      "outputs": []
    },
    {
      "cell_type": "code",
      "metadata": {
        "colab": {
          "base_uri": "https://localhost:8080/"
        },
        "id": "MQp6HA4kSTxL",
        "outputId": "f84114f3-3aee-4e1d-da4d-b239b1ce37af"
      },
      "source": [
        "print(df.shape)\n",
        "train=df.iloc[:-30]\n",
        "test=df.iloc[-30:]\n",
        "print(train.shape,test.shape)\n",
        "print(test.iloc[0],test.iloc[-1])"
      ],
      "execution_count": null,
      "outputs": [
        {
          "output_type": "stream",
          "text": [
            "(1227, 6)\n",
            "(1197, 6) (30, 6)\n",
            "Open         3.942000e+02\n",
            "High         3.969500e+02\n",
            "Low          3.918000e+02\n",
            "Close        3.927500e+02\n",
            "Adj Close    3.908407e+02\n",
            "Volume       9.770752e+06\n",
            "Name: 2019-04-15 00:00:00, dtype: float64 Open         4.208500e+02\n",
            "High         4.280000e+02\n",
            "Low          4.196000e+02\n",
            "Close        4.262000e+02\n",
            "Adj Close    4.241281e+02\n",
            "Volume       1.828104e+07\n",
            "Name: 2019-05-30 00:00:00, dtype: float64\n"
          ],
          "name": "stdout"
        }
      ]
    },
    {
      "cell_type": "code",
      "metadata": {
        "colab": {
          "base_uri": "https://localhost:8080/",
          "height": 209
        },
        "id": "jfjsZ8U4ST0l",
        "outputId": "4c4099c8-2517-4b28-d34c-e9429ec985a1"
      },
      "source": [
        "from statsmodels.tsa.arima_model import ARIMA\n",
        "model=ARIMA(train['Adj Close'],order=(0,1,0))\n",
        "model=model.fit()\n",
        "model.summary()"
      ],
      "execution_count": null,
      "outputs": [
        {
          "output_type": "execute_result",
          "data": {
            "text/html": [
              "<table class=\"simpletable\">\n",
              "<caption>ARIMA Model Results</caption>\n",
              "<tr>\n",
              "  <th>Dep. Variable:</th>    <td>D.Adj Close</td>   <th>  No. Observations:  </th>   <td>1196</td>   \n",
              "</tr>\n",
              "<tr>\n",
              "  <th>Model:</th>          <td>ARIMA(0, 1, 0)</td>  <th>  Log Likelihood     </th> <td>-3649.470</td>\n",
              "</tr>\n",
              "<tr>\n",
              "  <th>Method:</th>               <td>css</td>       <th>  S.D. of innovations</th>   <td>5.116</td>  \n",
              "</tr>\n",
              "<tr>\n",
              "  <th>Date:</th>          <td>Thu, 17 Jun 2021</td> <th>  AIC                </th> <td>7302.940</td> \n",
              "</tr>\n",
              "<tr>\n",
              "  <th>Time:</th>              <td>05:39:28</td>     <th>  BIC                </th> <td>7313.114</td> \n",
              "</tr>\n",
              "<tr>\n",
              "  <th>Sample:</th>                <td>1</td>        <th>  HQIC               </th> <td>7306.773</td> \n",
              "</tr>\n",
              "<tr>\n",
              "  <th></th>                       <td> </td>        <th>                     </th>     <td> </td>    \n",
              "</tr>\n",
              "</table>\n",
              "<table class=\"simpletable\">\n",
              "<tr>\n",
              "    <td></td>       <th>coef</th>     <th>std err</th>      <th>z</th>      <th>P>|z|</th>  <th>[0.025</th>    <th>0.975]</th>  \n",
              "</tr>\n",
              "<tr>\n",
              "  <th>const</th> <td>    0.1272</td> <td>    0.148</td> <td>    0.860</td> <td> 0.390</td> <td>   -0.163</td> <td>    0.417</td>\n",
              "</tr>\n",
              "</table>"
            ],
            "text/plain": [
              "<class 'statsmodels.iolib.summary.Summary'>\n",
              "\"\"\"\n",
              "                             ARIMA Model Results                              \n",
              "==============================================================================\n",
              "Dep. Variable:            D.Adj Close   No. Observations:                 1196\n",
              "Model:                 ARIMA(0, 1, 0)   Log Likelihood               -3649.470\n",
              "Method:                           css   S.D. of innovations              5.116\n",
              "Date:                Thu, 17 Jun 2021   AIC                           7302.940\n",
              "Time:                        05:39:28   BIC                           7313.114\n",
              "Sample:                             1   HQIC                          7306.773\n",
              "                                                                              \n",
              "==============================================================================\n",
              "                 coef    std err          z      P>|z|      [0.025      0.975]\n",
              "------------------------------------------------------------------------------\n",
              "const          0.1272      0.148      0.860      0.390      -0.163       0.417\n",
              "==============================================================================\n",
              "\"\"\""
            ]
          },
          "metadata": {
            "tags": []
          },
          "execution_count": 12
        }
      ]
    },
    {
      "cell_type": "code",
      "metadata": {
        "colab": {
          "base_uri": "https://localhost:8080/",
          "height": 309
        },
        "id": "QK9eKXBAST4H",
        "outputId": "9ca9c5ec-7460-4bc2-d13d-508aad5ab268"
      },
      "source": [
        "start=len(train)\n",
        "end=len(train)+len(test)-1\n",
        "#if the predicted values dont have date values as index, you will have to uncomment the following two commented lines to plot a graph\n",
        "index_future_dates=pd.date_range(start='2019-05-01',end='2019-05-30')\n",
        "pred=model.predict(start=start,end=end,typ='levels').rename('ARIMA predictions')\n",
        "pred.index=index_future_dates\n",
        "pred.plot(legend=True)\n",
        "test['Adj Close'].plot(legend=True)\n"
      ],
      "execution_count": null,
      "outputs": [
        {
          "output_type": "execute_result",
          "data": {
            "text/plain": [
              "<matplotlib.axes._subplots.AxesSubplot at 0x7ff6d8e37dd0>"
            ]
          },
          "metadata": {
            "tags": []
          },
          "execution_count": 16
        },
        {
          "output_type": "display_data",
          "data": {
            "image/png": "[encoded data removed]",
            "text/plain": [
              "<Figure size 432x288 with 1 Axes>"
            ]
          },
          "metadata": {
            "tags": [],
            "needs_background": "light"
          }
        }
      ]
    },
    {
      "cell_type": "code",
      "metadata": {
        "colab": {
          "base_uri": "https://localhost:8080/"
        },
        "id": "UnHkWjh6TwOG",
        "outputId": "815e4c2b-7846-4079-f137-179ebb65f888"
      },
      "source": [
        "from sklearn.metrics import mean_squared_error\n",
        "from math import sqrt\n",
        "rmse=sqrt(mean_squared_error(pred,test['Adj Close']))\n",
        "print(rmse)\n"
      ],
      "execution_count": null,
      "outputs": [
        {
          "output_type": "stream",
          "text": [
            "16.470247675047183\n"
          ],
          "name": "stdout"
        }
      ]
    },
    {
      "cell_type": "code",
      "metadata": {
        "colab": {
          "base_uri": "https://localhost:8080/",
          "height": 233
        },
        "id": "NLz5AzDwT1xz",
        "outputId": "053a467b-1944-45ba-8b4a-efc8aef7a762"
      },
      "source": [
        "model2=ARIMA(df['Adj Close'],order=(0,1,0))\n",
        "model2=model2.fit()\n",
        "df.tail()"
      ],
      "execution_count": null,
      "outputs": [
        {
          "output_type": "execute_result",
          "data": {
            "text/html": [
              "<div>\n",
              "<style scoped>\n",
              "    .dataframe tbody tr th:only-of-type {\n",
              "        vertical-align: middle;\n",
              "    }\n",
              "\n",
              "    .dataframe tbody tr th {\n",
              "        vertical-align: top;\n",
              "    }\n",
              "\n",
              "    .dataframe thead th {\n",
              "        text-align: right;\n",
              "    }\n",
              "</style>\n",
              "<table border=\"1\" class=\"dataframe\">\n",
              "  <thead>\n",
              "    <tr style=\"text-align: right;\">\n",
              "      <th></th>\n",
              "      <th>Open</th>\n",
              "      <th>High</th>\n",
              "      <th>Low</th>\n",
              "      <th>Close</th>\n",
              "      <th>Adj Close</th>\n",
              "      <th>Volume</th>\n",
              "    </tr>\n",
              "    <tr>\n",
              "      <th>Date</th>\n",
              "      <th></th>\n",
              "      <th></th>\n",
              "      <th></th>\n",
              "      <th></th>\n",
              "      <th></th>\n",
              "      <th></th>\n",
              "    </tr>\n",
              "  </thead>\n",
              "  <tbody>\n",
              "    <tr>\n",
              "      <th>2019-05-24</th>\n",
              "      <td>415.500000</td>\n",
              "      <td>433.549988</td>\n",
              "      <td>412.649994</td>\n",
              "      <td>431.750000</td>\n",
              "      <td>429.651062</td>\n",
              "      <td>37708344.0</td>\n",
              "    </tr>\n",
              "    <tr>\n",
              "      <th>2019-05-27</th>\n",
              "      <td>432.250000</td>\n",
              "      <td>438.799988</td>\n",
              "      <td>429.649994</td>\n",
              "      <td>435.500000</td>\n",
              "      <td>433.382843</td>\n",
              "      <td>23397222.0</td>\n",
              "    </tr>\n",
              "    <tr>\n",
              "      <th>2019-05-28</th>\n",
              "      <td>435.049988</td>\n",
              "      <td>439.200012</td>\n",
              "      <td>428.100006</td>\n",
              "      <td>434.299988</td>\n",
              "      <td>432.188660</td>\n",
              "      <td>23389724.0</td>\n",
              "    </tr>\n",
              "    <tr>\n",
              "      <th>2019-05-29</th>\n",
              "      <td>428.600006</td>\n",
              "      <td>430.450012</td>\n",
              "      <td>422.100006</td>\n",
              "      <td>423.299988</td>\n",
              "      <td>421.242126</td>\n",
              "      <td>22132254.0</td>\n",
              "    </tr>\n",
              "    <tr>\n",
              "      <th>2019-05-30</th>\n",
              "      <td>420.850006</td>\n",
              "      <td>428.000000</td>\n",
              "      <td>419.600006</td>\n",
              "      <td>426.200012</td>\n",
              "      <td>424.128052</td>\n",
              "      <td>18281037.0</td>\n",
              "    </tr>\n",
              "  </tbody>\n",
              "</table>\n",
              "</div>"
            ],
            "text/plain": [
              "                  Open        High  ...   Adj Close      Volume\n",
              "Date                                ...                        \n",
              "2019-05-24  415.500000  433.549988  ...  429.651062  37708344.0\n",
              "2019-05-27  432.250000  438.799988  ...  433.382843  23397222.0\n",
              "2019-05-28  435.049988  439.200012  ...  432.188660  23389724.0\n",
              "2019-05-29  428.600006  430.450012  ...  421.242126  22132254.0\n",
              "2019-05-30  420.850006  428.000000  ...  424.128052  18281037.0\n",
              "\n",
              "[5 rows x 6 columns]"
            ]
          },
          "metadata": {
            "tags": []
          },
          "execution_count": 18
        }
      ]
    },
    {
      "cell_type": "code",
      "metadata": {
        "colab": {
          "base_uri": "https://localhost:8080/"
        },
        "id": "W1n-QIs_T72k",
        "outputId": "a66124fa-73df-48ce-f42c-fe20dcf2d79d"
      },
      "source": [
        "index_future_dates=pd.date_range(start='2020-05-01',end='2020-05-31')\n",
        "#print(index_future_dates)\n",
        "pred=model2.predict(start=len(df),end=len(df)+30,typ='levels').rename('ARIMA Predictions')\n",
        "#print(comp_pred)\n",
        "pred.index=index_future_dates\n",
        "print(pred)"
      ],
      "execution_count": null,
      "outputs": [
        {
          "output_type": "stream",
          "text": [
            "2020-05-01    424.277787\n",
            "2020-05-02    424.427522\n",
            "2020-05-03    424.577258\n",
            "2020-05-04    424.726993\n",
            "2020-05-05    424.876728\n",
            "2020-05-06    425.026463\n",
            "2020-05-07    425.176198\n",
            "2020-05-08    425.325933\n",
            "2020-05-09    425.475669\n",
            "2020-05-10    425.625404\n",
            "2020-05-11    425.775139\n",
            "2020-05-12    425.924874\n",
            "2020-05-13    426.074609\n",
            "2020-05-14    426.224345\n",
            "2020-05-15    426.374080\n",
            "2020-05-16    426.523815\n",
            "2020-05-17    426.673550\n",
            "2020-05-18    426.823285\n",
            "2020-05-19    426.973020\n",
            "2020-05-20    427.122756\n",
            "2020-05-21    427.272491\n",
            "2020-05-22    427.422226\n",
            "2020-05-23    427.571961\n",
            "2020-05-24    427.721696\n",
            "2020-05-25    427.871432\n",
            "2020-05-26    428.021167\n",
            "2020-05-27    428.170902\n",
            "2020-05-28    428.320637\n",
            "2020-05-29    428.470372\n",
            "2020-05-30    428.620107\n",
            "2020-05-31    428.769843\n",
            "Freq: D, Name: ARIMA Predictions, dtype: float64\n"
          ],
          "name": "stdout"
        }
      ]
    },
    {
      "cell_type": "code",
      "metadata": {
        "colab": {
          "base_uri": "https://localhost:8080/",
          "height": 373
        },
        "id": "GA7ICXawUAvT",
        "outputId": "93787401-4972-4795-d48a-e1b8c323a02f"
      },
      "source": [
        "pred.plot(figsize=(12,5),legend=True)"
      ],
      "execution_count": null,
      "outputs": [
        {
          "output_type": "execute_result",
          "data": {
            "text/plain": [
              "<matplotlib.axes._subplots.AxesSubplot at 0x7ff6d8ccb790>"
            ]
          },
          "metadata": {
            "tags": []
          },
          "execution_count": 22
        },
        {
          "output_type": "display_data",
          "data": {
            "image/png": "[encoded data removed]",
            "text/plain": [
              "<Figure size 864x360 with 1 Axes>"
            ]
          },
          "metadata": {
            "tags": [],
            "needs_background": "light"
          }
        }
      ]
    }
  ]
}